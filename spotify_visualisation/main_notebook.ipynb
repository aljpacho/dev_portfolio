{
 "cells": [
  {
   "cell_type": "markdown",
   "metadata": {},
   "source": [
    "# Spotify Visualisation"
   ]
  },
  {
   "cell_type": "markdown",
   "metadata": {},
   "source": [
    "* Get user currently played tracks\n",
    "\n",
    "TODO: \n",
    "1. Get one day worth of data\n",
    "2. Put into a dataframe"
   ]
  },
  {
   "cell_type": "code",
   "execution_count": 7,
   "metadata": {},
   "outputs": [],
   "source": [
    "import os\n",
    "from dotenv import load_dotenv\n",
    "import spotipy\n",
    "from spotipy.oauth2 import SpotifyOAuth\n",
    "import pandas as pd\n",
    "from datetime import datetime, date\n",
    "\n",
    "load_dotenv()\n",
    "\n",
    "CLIENT_ID=os.getenv('CLIENT_ID')\n",
    "CLIENT_SECRET=os.getenv('CLIENT_SECRET')   \n",
    "REDIRECT_URL=os.getenv('REDIRECT_URL')\n",
    "\n",
    "SCOPE = \"user-read-recently-played\" \n",
    "\n",
    "sp = spotipy.Spotify(auth_manager=SpotifyOAuth(client_id=CLIENT_ID, client_secret= CLIENT_SECRET, redirect_uri=REDIRECT_URL, scope=SCOPE))\n"
   ]
  },
  {
   "cell_type": "markdown",
   "metadata": {},
   "source": [
    "Define **authorization scope** to use --> current_user_recently_played"
   ]
  },
  {
   "cell_type": "code",
   "execution_count": 27,
   "metadata": {},
   "outputs": [
    {
     "data": {
      "text/plain": [
       "1668470400000"
      ]
     },
     "execution_count": 27,
     "metadata": {},
     "output_type": "execute_result"
    }
   ],
   "source": [
    "today_date = date.today()\n",
    "today_midnight = int(datetime.combine(today_date, datetime.min.time()).timestamp() * 1000)\n",
    "today_midnight"
   ]
  },
  {
   "cell_type": "code",
   "execution_count": 48,
   "metadata": {},
   "outputs": [],
   "source": [
    "result = sp.current_user_recently_played(limit=1, after=today_midnight)"
   ]
  },
  {
   "cell_type": "code",
   "execution_count": 33,
   "metadata": {},
   "outputs": [
    {
     "name": "stdout",
     "output_type": "stream",
     "text": [
      "[{'track': {'album': {'album_type': 'album', 'artists': [{'external_urls': {'spotify': 'https://open.spotify.com/artist/0PgYKqH7ohfAm9LFgWjpl8'}, 'href': 'https://api.spotify.com/v1/artists/0PgYKqH7ohfAm9LFgWjpl8', 'id': '0PgYKqH7ohfAm9LFgWjpl8', 'name': 'ELIZA', 'type': 'artist', 'uri': 'spotify:artist:0PgYKqH7ohfAm9LFgWjpl8'}], 'available_markets': ['AD', 'AE', 'AG', 'AL', 'AM', 'AO', 'AR', 'AT', 'AU', 'AZ', 'BA', 'BB', 'BD', 'BE', 'BF', 'BG', 'BH', 'BI', 'BJ', 'BN', 'BO', 'BR', 'BS', 'BT', 'BW', 'BY', 'BZ', 'CA', 'CD', 'CG', 'CH', 'CI', 'CL', 'CM', 'CO', 'CR', 'CV', 'CW', 'CY', 'CZ', 'DE', 'DJ', 'DK', 'DM', 'DO', 'DZ', 'EC', 'EE', 'EG', 'ES', 'FI', 'FJ', 'FM', 'FR', 'GA', 'GB', 'GD', 'GE', 'GH', 'GM', 'GN', 'GQ', 'GR', 'GT', 'GW', 'GY', 'HK', 'HN', 'HR', 'HT', 'HU', 'ID', 'IE', 'IL', 'IN', 'IQ', 'IS', 'IT', 'JM', 'JO', 'JP', 'KE', 'KG', 'KH', 'KI', 'KM', 'KN', 'KR', 'KW', 'KZ', 'LA', 'LB', 'LC', 'LI', 'LK', 'LR', 'LS', 'LT', 'LU', 'LV', 'LY', 'MA', 'MC', 'MD', 'ME', 'MG', 'MH', 'MK', 'ML', 'MN', 'MO', 'MR', 'MT', 'MU', 'MV', 'MW', 'MX', 'MY', 'MZ', 'NA', 'NE', 'NG', 'NI', 'NL', 'NO', 'NP', 'NR', 'NZ', 'OM', 'PA', 'PE', 'PG', 'PH', 'PK', 'PL', 'PS', 'PT', 'PW', 'PY', 'QA', 'RO', 'RS', 'RW', 'SA', 'SB', 'SC', 'SE', 'SG', 'SI', 'SK', 'SL', 'SM', 'SN', 'SR', 'ST', 'SV', 'SZ', 'TD', 'TG', 'TH', 'TJ', 'TL', 'TN', 'TO', 'TR', 'TT', 'TV', 'TW', 'TZ', 'UA', 'UG', 'US', 'UY', 'UZ', 'VC', 'VE', 'VN', 'VU', 'WS', 'XK', 'ZA', 'ZM', 'ZW'], 'external_urls': {'spotify': 'https://open.spotify.com/album/3QIrrLWq2wnMdScMx1YXeS'}, 'href': 'https://api.spotify.com/v1/albums/3QIrrLWq2wnMdScMx1YXeS', 'id': '3QIrrLWq2wnMdScMx1YXeS', 'images': [{'height': 640, 'url': 'https://i.scdn.co/image/ab67616d0000b273c50440b59d005da681b8cfc6', 'width': 640}, {'height': 300, 'url': 'https://i.scdn.co/image/ab67616d00001e02c50440b59d005da681b8cfc6', 'width': 300}, {'height': 64, 'url': 'https://i.scdn.co/image/ab67616d00004851c50440b59d005da681b8cfc6', 'width': 64}], 'name': 'A Sky Without Stars', 'release_date': '2022-09-16', 'release_date_precision': 'day', 'total_tracks': 10, 'type': 'album', 'uri': 'spotify:album:3QIrrLWq2wnMdScMx1YXeS'}, 'artists': [{'external_urls': {'spotify': 'https://open.spotify.com/artist/0PgYKqH7ohfAm9LFgWjpl8'}, 'href': 'https://api.spotify.com/v1/artists/0PgYKqH7ohfAm9LFgWjpl8', 'id': '0PgYKqH7ohfAm9LFgWjpl8', 'name': 'ELIZA', 'type': 'artist', 'uri': 'spotify:artist:0PgYKqH7ohfAm9LFgWjpl8'}], 'available_markets': ['AD', 'AE', 'AG', 'AL', 'AM', 'AO', 'AR', 'AT', 'AU', 'AZ', 'BA', 'BB', 'BD', 'BE', 'BF', 'BG', 'BH', 'BI', 'BJ', 'BN', 'BO', 'BR', 'BS', 'BT', 'BW', 'BY', 'BZ', 'CA', 'CD', 'CG', 'CH', 'CI', 'CL', 'CM', 'CO', 'CR', 'CV', 'CW', 'CY', 'CZ', 'DE', 'DJ', 'DK', 'DM', 'DO', 'DZ', 'EC', 'EE', 'EG', 'ES', 'FI', 'FJ', 'FM', 'FR', 'GA', 'GB', 'GD', 'GE', 'GH', 'GM', 'GN', 'GQ', 'GR', 'GT', 'GW', 'GY', 'HK', 'HN', 'HR', 'HT', 'HU', 'ID', 'IE', 'IL', 'IN', 'IQ', 'IS', 'IT', 'JM', 'JO', 'JP', 'KE', 'KG', 'KH', 'KI', 'KM', 'KN', 'KR', 'KW', 'KZ', 'LA', 'LB', 'LC', 'LI', 'LK', 'LR', 'LS', 'LT', 'LU', 'LV', 'LY', 'MA', 'MC', 'MD', 'ME', 'MG', 'MH', 'MK', 'ML', 'MN', 'MO', 'MR', 'MT', 'MU', 'MV', 'MW', 'MX', 'MY', 'MZ', 'NA', 'NE', 'NG', 'NI', 'NL', 'NO', 'NP', 'NR', 'NZ', 'OM', 'PA', 'PE', 'PG', 'PH', 'PK', 'PL', 'PS', 'PT', 'PW', 'PY', 'QA', 'RO', 'RS', 'RW', 'SA', 'SB', 'SC', 'SE', 'SG', 'SI', 'SK', 'SL', 'SM', 'SN', 'SR', 'ST', 'SV', 'SZ', 'TD', 'TG', 'TH', 'TJ', 'TL', 'TN', 'TO', 'TR', 'TT', 'TV', 'TW', 'TZ', 'UA', 'UG', 'US', 'UY', 'UZ', 'VC', 'VE', 'VN', 'VU', 'WS', 'XK', 'ZA', 'ZM', 'ZW'], 'disc_number': 1, 'duration_ms': 318996, 'explicit': True, 'external_ids': {'isrc': 'GBENL2203215'}, 'external_urls': {'spotify': 'https://open.spotify.com/track/06UCuKAVeQRiNcHAb9Vug7'}, 'href': 'https://api.spotify.com/v1/tracks/06UCuKAVeQRiNcHAb9Vug7', 'id': '06UCuKAVeQRiNcHAb9Vug7', 'is_local': False, 'name': 'A Tear for the Dreadful', 'popularity': 39, 'preview_url': 'https://p.scdn.co/mp3-preview/89844a317ebbd7a7e944b66a798ea41d4cc15eb2?cid=d4af0425b5854163b02215c60a32c039', 'track_number': 2, 'type': 'track', 'uri': 'spotify:track:06UCuKAVeQRiNcHAb9Vug7'}, 'played_at': '2022-11-15T17:27:25.717Z', 'context': {'external_urls': {'spotify': 'https://open.spotify.com/playlist/2jjwZBJFUtMeDXJSyB1b1H?sessionId=1670138496562&mode=enhanced'}, 'href': 'https://api.spotify.com/v1/playlists/2jjwZBJFUtMeDXJSyB1b1H', 'type': 'playlist', 'uri': 'spotify:playlist:2jjwZBJFUtMeDXJSyB1b1H'}}]\n"
     ]
    }
   ],
   "source": [
    "print(result['items'])"
   ]
  },
  {
   "cell_type": "code",
   "execution_count": 55,
   "metadata": {},
   "outputs": [
    {
     "data": {
      "text/plain": [
       "'ELIZA'"
      ]
     },
     "execution_count": 55,
     "metadata": {},
     "output_type": "execute_result"
    }
   ],
   "source": [
    "item = result['items'][0]\n",
    "track = item['track']\n",
    "track['artists'][0]['name']"
   ]
  },
  {
   "cell_type": "code",
   "execution_count": 51,
   "metadata": {},
   "outputs": [
    {
     "name": "stdout",
     "output_type": "stream",
     "text": [
      "{'album': {'album_type': 'album', 'artists': [{'external_urls': {'spotify': 'https://open.spotify.com/artist/0PgYKqH7ohfAm9LFgWjpl8'}, 'href': 'https://api.spotify.com/v1/artists/0PgYKqH7ohfAm9LFgWjpl8', 'id': '0PgYKqH7ohfAm9LFgWjpl8', 'name': 'ELIZA', 'type': 'artist', 'uri': 'spotify:artist:0PgYKqH7ohfAm9LFgWjpl8'}], 'available_markets': ['AD', 'AE', 'AG', 'AL', 'AM', 'AO', 'AR', 'AT', 'AU', 'AZ', 'BA', 'BB', 'BD', 'BE', 'BF', 'BG', 'BH', 'BI', 'BJ', 'BN', 'BO', 'BR', 'BS', 'BT', 'BW', 'BY', 'BZ', 'CA', 'CD', 'CG', 'CH', 'CI', 'CL', 'CM', 'CO', 'CR', 'CV', 'CW', 'CY', 'CZ', 'DE', 'DJ', 'DK', 'DM', 'DO', 'DZ', 'EC', 'EE', 'EG', 'ES', 'FI', 'FJ', 'FM', 'FR', 'GA', 'GB', 'GD', 'GE', 'GH', 'GM', 'GN', 'GQ', 'GR', 'GT', 'GW', 'GY', 'HK', 'HN', 'HR', 'HT', 'HU', 'ID', 'IE', 'IL', 'IN', 'IQ', 'IS', 'IT', 'JM', 'JO', 'JP', 'KE', 'KG', 'KH', 'KI', 'KM', 'KN', 'KR', 'KW', 'KZ', 'LA', 'LB', 'LC', 'LI', 'LK', 'LR', 'LS', 'LT', 'LU', 'LV', 'LY', 'MA', 'MC', 'MD', 'ME', 'MG', 'MH', 'MK', 'ML', 'MN', 'MO', 'MR', 'MT', 'MU', 'MV', 'MW', 'MX', 'MY', 'MZ', 'NA', 'NE', 'NG', 'NI', 'NL', 'NO', 'NP', 'NR', 'NZ', 'OM', 'PA', 'PE', 'PG', 'PH', 'PK', 'PL', 'PS', 'PT', 'PW', 'PY', 'QA', 'RO', 'RS', 'RW', 'SA', 'SB', 'SC', 'SE', 'SG', 'SI', 'SK', 'SL', 'SM', 'SN', 'SR', 'ST', 'SV', 'SZ', 'TD', 'TG', 'TH', 'TJ', 'TL', 'TN', 'TO', 'TR', 'TT', 'TV', 'TW', 'TZ', 'UA', 'UG', 'US', 'UY', 'UZ', 'VC', 'VE', 'VN', 'VU', 'WS', 'XK', 'ZA', 'ZM', 'ZW'], 'external_urls': {'spotify': 'https://open.spotify.com/album/3QIrrLWq2wnMdScMx1YXeS'}, 'href': 'https://api.spotify.com/v1/albums/3QIrrLWq2wnMdScMx1YXeS', 'id': '3QIrrLWq2wnMdScMx1YXeS', 'images': [{'height': 640, 'url': 'https://i.scdn.co/image/ab67616d0000b273c50440b59d005da681b8cfc6', 'width': 640}, {'height': 300, 'url': 'https://i.scdn.co/image/ab67616d00001e02c50440b59d005da681b8cfc6', 'width': 300}, {'height': 64, 'url': 'https://i.scdn.co/image/ab67616d00004851c50440b59d005da681b8cfc6', 'width': 64}], 'name': 'A Sky Without Stars', 'release_date': '2022-09-16', 'release_date_precision': 'day', 'total_tracks': 10, 'type': 'album', 'uri': 'spotify:album:3QIrrLWq2wnMdScMx1YXeS'}, 'artists': [{'external_urls': {'spotify': 'https://open.spotify.com/artist/0PgYKqH7ohfAm9LFgWjpl8'}, 'href': 'https://api.spotify.com/v1/artists/0PgYKqH7ohfAm9LFgWjpl8', 'id': '0PgYKqH7ohfAm9LFgWjpl8', 'name': 'ELIZA', 'type': 'artist', 'uri': 'spotify:artist:0PgYKqH7ohfAm9LFgWjpl8'}], 'available_markets': ['AD', 'AE', 'AG', 'AL', 'AM', 'AO', 'AR', 'AT', 'AU', 'AZ', 'BA', 'BB', 'BD', 'BE', 'BF', 'BG', 'BH', 'BI', 'BJ', 'BN', 'BO', 'BR', 'BS', 'BT', 'BW', 'BY', 'BZ', 'CA', 'CD', 'CG', 'CH', 'CI', 'CL', 'CM', 'CO', 'CR', 'CV', 'CW', 'CY', 'CZ', 'DE', 'DJ', 'DK', 'DM', 'DO', 'DZ', 'EC', 'EE', 'EG', 'ES', 'FI', 'FJ', 'FM', 'FR', 'GA', 'GB', 'GD', 'GE', 'GH', 'GM', 'GN', 'GQ', 'GR', 'GT', 'GW', 'GY', 'HK', 'HN', 'HR', 'HT', 'HU', 'ID', 'IE', 'IL', 'IN', 'IQ', 'IS', 'IT', 'JM', 'JO', 'JP', 'KE', 'KG', 'KH', 'KI', 'KM', 'KN', 'KR', 'KW', 'KZ', 'LA', 'LB', 'LC', 'LI', 'LK', 'LR', 'LS', 'LT', 'LU', 'LV', 'LY', 'MA', 'MC', 'MD', 'ME', 'MG', 'MH', 'MK', 'ML', 'MN', 'MO', 'MR', 'MT', 'MU', 'MV', 'MW', 'MX', 'MY', 'MZ', 'NA', 'NE', 'NG', 'NI', 'NL', 'NO', 'NP', 'NR', 'NZ', 'OM', 'PA', 'PE', 'PG', 'PH', 'PK', 'PL', 'PS', 'PT', 'PW', 'PY', 'QA', 'RO', 'RS', 'RW', 'SA', 'SB', 'SC', 'SE', 'SG', 'SI', 'SK', 'SL', 'SM', 'SN', 'SR', 'ST', 'SV', 'SZ', 'TD', 'TG', 'TH', 'TJ', 'TL', 'TN', 'TO', 'TR', 'TT', 'TV', 'TW', 'TZ', 'UA', 'UG', 'US', 'UY', 'UZ', 'VC', 'VE', 'VN', 'VU', 'WS', 'XK', 'ZA', 'ZM', 'ZW'], 'disc_number': 1, 'duration_ms': 318996, 'explicit': True, 'external_ids': {'isrc': 'GBENL2203215'}, 'external_urls': {'spotify': 'https://open.spotify.com/track/06UCuKAVeQRiNcHAb9Vug7'}, 'href': 'https://api.spotify.com/v1/tracks/06UCuKAVeQRiNcHAb9Vug7', 'id': '06UCuKAVeQRiNcHAb9Vug7', 'is_local': False, 'name': 'A Tear for the Dreadful', 'popularity': 39, 'preview_url': 'https://p.scdn.co/mp3-preview/89844a317ebbd7a7e944b66a798ea41d4cc15eb2?cid=d4af0425b5854163b02215c60a32c039', 'track_number': 2, 'type': 'track', 'uri': 'spotify:track:06UCuKAVeQRiNcHAb9Vug7'}\n",
      "[{'external_urls': {'spotify': 'https://open.spotify.com/artist/0PgYKqH7ohfAm9LFgWjpl8'}, 'href': 'https://api.spotify.com/v1/artists/0PgYKqH7ohfAm9LFgWjpl8', 'id': '0PgYKqH7ohfAm9LFgWjpl8', 'name': 'ELIZA', 'type': 'artist', 'uri': 'spotify:artist:0PgYKqH7ohfAm9LFgWjpl8'}]\n",
      "0 ELIZA  –  A Tear for the Dreadful\n"
     ]
    }
   ],
   "source": [
    "for idx, item in enumerate(result['items']):\n",
    "    track = item['track']\n",
    "    print(track)\n",
    "    print(track['artists'])\n",
    "    print(idx, track['artists'][0]['name'], \" – \", track['name'])"
   ]
  },
  {
   "cell_type": "markdown",
   "metadata": {},
   "source": [
    "Make a function that will batch load data from API into a dataframe"
   ]
  }
 ],
 "metadata": {
  "kernelspec": {
   "display_name": "Python 3.9.13 ('venv': venv)",
   "language": "python",
   "name": "python3"
  },
  "language_info": {
   "codemirror_mode": {
    "name": "ipython",
    "version": 3
   },
   "file_extension": ".py",
   "mimetype": "text/x-python",
   "name": "python",
   "nbconvert_exporter": "python",
   "pygments_lexer": "ipython3",
   "version": "3.9.13"
  },
  "orig_nbformat": 4,
  "vscode": {
   "interpreter": {
    "hash": "71387b5b13a15f8570a6305f351b84309c4c505e583a3e1f3fdf7f30bff0ae2c"
   }
  }
 },
 "nbformat": 4,
 "nbformat_minor": 2
}
